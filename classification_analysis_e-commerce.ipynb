{
 "cells": [
  {
   "cell_type": "markdown",
   "metadata": {},
   "source": [
    "## Product Survey Score Prediction"
   ]
  },
  {
   "cell_type": "markdown",
   "metadata": {},
   "source": [
    "Our project is using classification method to do product survey score prediction. We consider that survey score is affected by product characteristics, product price and customer geological information. Therefore, we are joining several datasets to get the features we want."
   ]
  },
  {
   "cell_type": "code",
   "execution_count": 1,
   "metadata": {},
   "outputs": [],
   "source": [
    "import pandas as pd\n",
    "import os.path\n",
    "\n",
    "import pyspark\n",
    "from pyspark.sql import SparkSession\n",
    "\n",
    "from pyspark.sql.functions import udf, col, avg, mean, stddev,explode\n",
    "from pyspark.sql.types import BooleanType\n",
    "from pyspark.ml.stat import Correlation\n",
    "\n",
    "# import data_dict_loader\n",
    "%matplotlib inline"
   ]
  },
  {
   "cell_type": "markdown",
   "metadata": {},
   "source": [
    "### 0) Start Spark Session"
   ]
  },
  {
   "cell_type": "code",
   "execution_count": 2,
   "metadata": {},
   "outputs": [
    {
     "name": "stdout",
     "output_type": "stream",
     "text": [
      "2.3.2\n",
      "<module 'pyspark.version' from '/usr/local/lib/python3.6/dist-packages/pyspark/version.py'>\n"
     ]
    }
   ],
   "source": [
    "spark = SparkSession \\\n",
    "    .builder \\\n",
    "    .appName(\"Spark Data Exploration\") \\\n",
    "    .getOrCreate()\n",
    "\n",
    "print (spark.version)\n",
    "print (pyspark.version)\n",
    "\n",
    "mode = 'overwrite'\n",
    "url = 'jdbc:postgresql://localhost:5432/postgres'\n",
    "driver = 'org.postgresql.Driver'\n",
    "properties = {\"user\": \"postgres\",\"password\": \"postgres\",\"driver\":driver}"
   ]
  },
  {
   "cell_type": "markdown",
   "metadata": {},
   "source": [
    "### 1) Load Data "
   ]
  },
  {
   "cell_type": "code",
   "execution_count": 3,
   "metadata": {},
   "outputs": [],
   "source": [
    "customer_review_fname = 'customer_reviews_dataset.csv'\n",
    "products_fname = 'products_dataset.csv'\n",
    "customer_fname = 'customers_dataset.csv'\n",
    "order_item_fname = 'order_items_dataset.csv'\n",
    "order_fname = 'orders_dataset.csv'\n",
    "product_category_name_translation_fname = 'product_category_name_translation.csv'\n",
    "customer_review_df = spark.read.load(customer_review_fname,format=\"csv\",inferSchema=\"true\",header=\"true\").cache()\n",
    "product_df = spark.read.load(products_fname,format=\"csv\",inferSchema=\"true\",header=\"true\").cache()\n",
    "customer_df = spark.read.load(customer_fname,format=\"csv\",inferSchema=\"true\",header=\"true\").cache()\n",
    "order_item_df = spark.read.load(order_item_fname,format=\"csv\",inferSchema=\"true\",header=\"true\").cache()\n",
    "order_df = spark.read.load(order_fname,format=\"csv\",inferSchema=\"true\",header=\"true\").cache()\n",
    "product_category_name_translation_df = spark.read.load(product_category_name_translation_fname,format=\"csv\",inferSchema=\"true\",header=\"true\").cache()"
   ]
  },
  {
   "cell_type": "markdown",
   "metadata": {},
   "source": [
    "### 2) Examine Schemas and Counts"
   ]
  },
  {
   "cell_type": "code",
   "execution_count": 4,
   "metadata": {},
   "outputs": [
    {
     "name": "stdout",
     "output_type": "stream",
     "text": [
      "100000\n",
      "root\n",
      " |-- review_id: string (nullable = true)\n",
      " |-- order_id: string (nullable = true)\n",
      " |-- survey_score: integer (nullable = true)\n",
      "\n",
      "32951\n",
      "root\n",
      " |-- product_id: string (nullable = true)\n",
      " |-- product_category_name: string (nullable = true)\n",
      " |-- product_name_lenght: integer (nullable = true)\n",
      " |-- product_description_lenght: integer (nullable = true)\n",
      " |-- product_photos_qty: integer (nullable = true)\n",
      " |-- product_weight_g: integer (nullable = true)\n",
      " |-- product_length_cm: integer (nullable = true)\n",
      " |-- product_height_cm: integer (nullable = true)\n",
      " |-- product_width_cm: integer (nullable = true)\n",
      "\n",
      "99441\n",
      "root\n",
      " |-- customer_id: string (nullable = true)\n",
      " |-- customer_unique_id: string (nullable = true)\n",
      " |-- customer_zip_code_prefix: integer (nullable = true)\n",
      " |-- customer_city: string (nullable = true)\n",
      " |-- customer_state: string (nullable = true)\n",
      "\n",
      "112650\n",
      "root\n",
      " |-- order_id: string (nullable = true)\n",
      " |-- order_item_id: integer (nullable = true)\n",
      " |-- product_id: string (nullable = true)\n",
      " |-- seller_id: string (nullable = true)\n",
      " |-- shipping_limit_date: timestamp (nullable = true)\n",
      " |-- price: double (nullable = true)\n",
      " |-- freight_value: double (nullable = true)\n",
      "\n",
      "99441\n",
      "root\n",
      " |-- order_id: string (nullable = true)\n",
      " |-- customer_id: string (nullable = true)\n",
      " |-- order_status: string (nullable = true)\n",
      " |-- order_purchase_timestamp: timestamp (nullable = true)\n",
      " |-- order_approved_at: timestamp (nullable = true)\n",
      " |-- order_carrier_delivery_date: timestamp (nullable = true)\n",
      " |-- order_customer_delivery_date: timestamp (nullable = true)\n",
      " |-- order_estimated_delivery_date: timestamp (nullable = true)\n",
      "\n",
      "71\n",
      "root\n",
      " |-- product_category_name: string (nullable = true)\n",
      " |-- product_category_name_english: string (nullable = true)\n",
      "\n"
     ]
    }
   ],
   "source": [
    "print(customer_review_df.count())\n",
    "customer_review_df.printSchema()\n",
    "\n",
    "print(product_df.count())\n",
    "product_df.printSchema()\n",
    "\n",
    "print(customer_df.count())\n",
    "customer_df.printSchema()\n",
    "\n",
    "print(order_item_df.count())\n",
    "order_item_df.printSchema()\n",
    "\n",
    "print(order_df.count())\n",
    "order_df.printSchema()\n",
    "\n",
    "print(product_category_name_translation_df.count())\n",
    "product_category_name_translation_df.printSchema()"
   ]
  },
  {
   "cell_type": "markdown",
   "metadata": {},
   "source": [
    "### 3) Examine Rows"
   ]
  },
  {
   "cell_type": "code",
   "execution_count": 5,
   "metadata": {},
   "outputs": [
    {
     "name": "stdout",
     "output_type": "stream",
     "text": [
      "+--------------------+--------------------+------------+\n",
      "|           review_id|            order_id|survey_score|\n",
      "+--------------------+--------------------+------------+\n",
      "|7bc2406110b926393...|73fc7af87114b3971...|           4|\n",
      "|80e641a11e56f04c1...|a548910a1c6147796...|           5|\n",
      "|228ce5500dc1d8e02...|f9e4b658b201a9f2e...|           5|\n",
      "|e64fb393e7b32834b...|658677c97b385a9be...|           5|\n",
      "|f7c4243c7fe1938f1...|8e6bfb81e283fa7e4...|           5|\n",
      "+--------------------+--------------------+------------+\n",
      "only showing top 5 rows\n",
      "\n"
     ]
    }
   ],
   "source": [
    "customer_review_df.show(5)"
   ]
  },
  {
   "cell_type": "code",
   "execution_count": 6,
   "metadata": {},
   "outputs": [
    {
     "name": "stdout",
     "output_type": "stream",
     "text": [
      "+--------------------+---------------------+-------------------+--------------------------+------------------+----------------+-----------------+-----------------+----------------+\n",
      "|          product_id|product_category_name|product_name_lenght|product_description_lenght|product_photos_qty|product_weight_g|product_length_cm|product_height_cm|product_width_cm|\n",
      "+--------------------+---------------------+-------------------+--------------------------+------------------+----------------+-----------------+-----------------+----------------+\n",
      "|1e9e8ef04dbcff454...|           perfumaria|                 40|                       287|                 1|             225|               16|               10|              14|\n",
      "|3aa071139cb16b67c...|                artes|                 44|                       276|                 1|            1000|               30|               18|              20|\n",
      "|96bd76ec8810374ed...|        esporte_lazer|                 46|                       250|                 1|             154|               18|                9|              15|\n",
      "|cef67bcfe19066a93...|                bebes|                 27|                       261|                 1|             371|               26|                4|              26|\n",
      "|9dc1a7de274444849...| utilidades_domest...|                 37|                       402|                 4|             625|               20|               17|              13|\n",
      "+--------------------+---------------------+-------------------+--------------------------+------------------+----------------+-----------------+-----------------+----------------+\n",
      "only showing top 5 rows\n",
      "\n"
     ]
    }
   ],
   "source": [
    "product_df.show(5)"
   ]
  },
  {
   "cell_type": "code",
   "execution_count": 7,
   "metadata": {},
   "outputs": [
    {
     "name": "stdout",
     "output_type": "stream",
     "text": [
      "+--------------------+--------------------+------------------------+--------------------+--------------+\n",
      "|         customer_id|  customer_unique_id|customer_zip_code_prefix|       customer_city|customer_state|\n",
      "+--------------------+--------------------+------------------------+--------------------+--------------+\n",
      "|06b8999e2fba1a1fb...|861eff4711a542e4b...|                   14409|              franca|            SP|\n",
      "|18955e83d337fd6b2...|290c77bc529b7ac93...|                    9790|sao bernardo do c...|            SP|\n",
      "|4e7b3e00288586ebd...|060e732b5b29e8181...|                    1151|           sao paulo|            SP|\n",
      "|b2b6027bc5c5109e5...|259dac757896d24d7...|                    8775|     mogi das cruzes|            SP|\n",
      "|4f2d8ab171c80ec83...|345ecd01c38d18a90...|                   13056|            campinas|            SP|\n",
      "+--------------------+--------------------+------------------------+--------------------+--------------+\n",
      "only showing top 5 rows\n",
      "\n"
     ]
    }
   ],
   "source": [
    "customer_df.show(5)"
   ]
  },
  {
   "cell_type": "code",
   "execution_count": 8,
   "metadata": {},
   "outputs": [
    {
     "name": "stdout",
     "output_type": "stream",
     "text": [
      "+--------------------+-------------+--------------------+--------------------+-------------------+-----+-------------+\n",
      "|            order_id|order_item_id|          product_id|           seller_id|shipping_limit_date|price|freight_value|\n",
      "+--------------------+-------------+--------------------+--------------------+-------------------+-----+-------------+\n",
      "|00010242fe8c5a6d1...|            1|4244733e06e7ecb49...|48436dade18ac8b2b...|2017-09-19 09:45:35| 58.9|        13.29|\n",
      "|00018f77f2f0320c5...|            1|e5f2d52b802189ee6...|dd7ddc04e1b6c2c61...|2017-05-03 11:05:13|239.9|        19.93|\n",
      "|000229ec398224ef6...|            1|c777355d18b72b67a...|5b51032eddd242adc...|2018-01-18 14:48:30|199.0|        17.87|\n",
      "|00024acbcdf0a6daa...|            1|7634da152a4610f15...|9d7a1d34a50524090...|2018-08-15 10:10:18|12.99|        12.79|\n",
      "|00042b26cf59d7ce6...|            1|ac6c3623068f30de0...|df560393f3a51e745...|2017-02-13 13:57:51|199.9|        18.14|\n",
      "+--------------------+-------------+--------------------+--------------------+-------------------+-----+-------------+\n",
      "only showing top 5 rows\n",
      "\n"
     ]
    }
   ],
   "source": [
    "order_item_df.show(5)"
   ]
  },
  {
   "cell_type": "code",
   "execution_count": 9,
   "metadata": {},
   "outputs": [
    {
     "name": "stdout",
     "output_type": "stream",
     "text": [
      "+--------------------+--------------------+------------+------------------------+-------------------+---------------------------+----------------------------+-----------------------------+\n",
      "|            order_id|         customer_id|order_status|order_purchase_timestamp|  order_approved_at|order_carrier_delivery_date|order_customer_delivery_date|order_estimated_delivery_date|\n",
      "+--------------------+--------------------+------------+------------------------+-------------------+---------------------------+----------------------------+-----------------------------+\n",
      "|e481f51cbdc54678b...|9ef432eb625129730...|   delivered|     2017-10-02 10:56:33|2017-10-02 11:07:15|        2017-10-04 19:55:00|         2017-10-10 21:25:13|          2017-10-18 00:00:00|\n",
      "|53cdb2fc8bc7dce0b...|b0830fb4747a6c6d2...|   delivered|     2018-07-24 20:41:37|2018-07-26 03:24:27|        2018-07-26 14:31:00|         2018-08-07 15:27:45|          2018-08-13 00:00:00|\n",
      "|47770eb9100c2d0c4...|41ce2a54c0b03bf34...|   delivered|     2018-08-08 08:38:49|2018-08-08 08:55:23|        2018-08-08 13:50:00|         2018-08-17 18:06:29|          2018-09-04 00:00:00|\n",
      "|949d5b44dbf5de918...|f88197465ea7920ad...|   delivered|     2017-11-18 19:28:06|2017-11-18 19:45:59|        2017-11-22 13:39:59|         2017-12-02 00:28:42|          2017-12-15 00:00:00|\n",
      "|ad21c59c0840e6cb8...|8ab97904e6daea886...|   delivered|     2018-02-13 21:18:39|2018-02-13 22:20:29|        2018-02-14 19:46:34|         2018-02-16 18:17:02|          2018-02-26 00:00:00|\n",
      "+--------------------+--------------------+------------+------------------------+-------------------+---------------------------+----------------------------+-----------------------------+\n",
      "only showing top 5 rows\n",
      "\n"
     ]
    }
   ],
   "source": [
    "order_df.show(5)"
   ]
  },
  {
   "cell_type": "code",
   "execution_count": 10,
   "metadata": {},
   "outputs": [
    {
     "name": "stdout",
     "output_type": "stream",
     "text": [
      "+---------------------+-----------------------------+\n",
      "|product_category_name|product_category_name_english|\n",
      "+---------------------+-----------------------------+\n",
      "|         beleza_saude|                health_beauty|\n",
      "| informatica_acess...|         computers_accesso...|\n",
      "|           automotivo|                         auto|\n",
      "|      cama_mesa_banho|               bed_bath_table|\n",
      "|     moveis_decoracao|              furniture_decor|\n",
      "+---------------------+-----------------------------+\n",
      "only showing top 5 rows\n",
      "\n"
     ]
    }
   ],
   "source": [
    "product_category_name_translation_df.show(5)"
   ]
  },
  {
   "cell_type": "markdown",
   "metadata": {},
   "source": [
    "### 4) Merge dataset"
   ]
  },
  {
   "cell_type": "code",
   "execution_count": 11,
   "metadata": {},
   "outputs": [],
   "source": [
    "customer_review_df = customer_review_df['order_id','survey_score']\n",
    "\n",
    "product_df = product_df['product_id','product_category_name','product_description_lenght',\n",
    "            'product_weight_g','product_photos_qty']\n",
    "\n",
    "customer_df = customer_df['customer_id','customer_state']\n",
    "\n",
    "order_item_df = order_item_df['order_id','product_id','price','freight_value']\n",
    "\n",
    "order_df = order_df['order_id','customer_id']"
   ]
  },
  {
   "cell_type": "code",
   "execution_count": 12,
   "metadata": {},
   "outputs": [
    {
     "name": "stdout",
     "output_type": "stream",
     "text": [
      "+--------------------+------------+--------------------+\n",
      "|            order_id|survey_score|         customer_id|\n",
      "+--------------------+------------+--------------------+\n",
      "|73fc7af87114b3971...|           4|41dcb106f807e9935...|\n",
      "|a548910a1c6147796...|           5|8a2e7ef9053dea531...|\n",
      "|f9e4b658b201a9f2e...|           5|e226dfed6544df5b7...|\n",
      "|658677c97b385a9be...|           5|de6dff97e5f1ba84a...|\n",
      "|8e6bfb81e283fa7e4...|           5|5986b333ca0d44534...|\n",
      "+--------------------+------------+--------------------+\n",
      "only showing top 5 rows\n",
      "\n"
     ]
    }
   ],
   "source": [
    "tmp1 = customer_review_df.join(order_df,customer_review_df.order_id == order_df.order_id,'left_outer').drop(order_df.order_id)\n",
    "\n",
    "tmp1.show(5)"
   ]
  },
  {
   "cell_type": "code",
   "execution_count": 13,
   "metadata": {},
   "outputs": [
    {
     "name": "stdout",
     "output_type": "stream",
     "text": [
      "+--------------------+------------+--------------------+--------------+\n",
      "|            order_id|survey_score|         customer_id|customer_state|\n",
      "+--------------------+------------+--------------------+--------------+\n",
      "|73fc7af87114b3971...|           4|41dcb106f807e9935...|            SP|\n",
      "|a548910a1c6147796...|           5|8a2e7ef9053dea531...|            SP|\n",
      "|f9e4b658b201a9f2e...|           5|e226dfed6544df5b7...|            BA|\n",
      "|658677c97b385a9be...|           5|de6dff97e5f1ba84a...|            SC|\n",
      "|8e6bfb81e283fa7e4...|           5|5986b333ca0d44534...|            SC|\n",
      "+--------------------+------------+--------------------+--------------+\n",
      "only showing top 5 rows\n",
      "\n"
     ]
    }
   ],
   "source": [
    "tmp2 = tmp1.join(customer_df,tmp1.customer_id == customer_df.customer_id,'left_outer').drop(customer_df.customer_id)\n",
    "tmp2.show(5)"
   ]
  },
  {
   "cell_type": "code",
   "execution_count": 14,
   "metadata": {},
   "outputs": [
    {
     "name": "stdout",
     "output_type": "stream",
     "text": [
      "+--------------------+------------+--------------------+--------------+--------------------+------+-------------+\n",
      "|            order_id|survey_score|         customer_id|customer_state|          product_id| price|freight_value|\n",
      "+--------------------+------------+--------------------+--------------+--------------------+------+-------------+\n",
      "|73fc7af87114b3971...|           4|41dcb106f807e9935...|            SP|fd25ab760bfbba13c...| 185.0|        13.63|\n",
      "|73fc7af87114b3971...|           4|41dcb106f807e9935...|            SP|fd25ab760bfbba13c...| 185.0|        13.63|\n",
      "|a548910a1c6147796...|           5|8a2e7ef9053dea531...|            SP|be0dbdc3d67d55727...| 79.79|          8.3|\n",
      "|f9e4b658b201a9f2e...|           5|e226dfed6544df5b7...|            BA|d1c427060a0f73f6b...| 149.0|        45.12|\n",
      "|658677c97b385a9be...|           5|de6dff97e5f1ba84a...|            SC|52c80cedd4e90108b...|179.99|        42.85|\n",
      "+--------------------+------------+--------------------+--------------+--------------------+------+-------------+\n",
      "only showing top 5 rows\n",
      "\n"
     ]
    }
   ],
   "source": [
    "tmp3 = tmp2.join(order_item_df,tmp2.order_id == order_item_df.order_id,'left_outer').drop( order_item_df.order_id)\n",
    "tmp3.show(5)"
   ]
  },
  {
   "cell_type": "code",
   "execution_count": 15,
   "metadata": {},
   "outputs": [
    {
     "name": "stdout",
     "output_type": "stream",
     "text": [
      "+------------+--------------+------+-------------+---------------------+--------------------------+----------------+------------------+\n",
      "|survey_score|customer_state| price|freight_value|product_category_name|product_description_lenght|product_weight_g|product_photos_qty|\n",
      "+------------+--------------+------+-------------+---------------------+--------------------------+----------------+------------------+\n",
      "|           4|            SP| 185.0|        13.63|        esporte_lazer|                       858|            1300|                 1|\n",
      "|           4|            SP| 185.0|        13.63|        esporte_lazer|                       858|            1300|                 1|\n",
      "|           5|            SP| 79.79|          8.3| informatica_acess...|                       493|             245|                 1|\n",
      "|           5|            BA| 149.0|        45.12| informatica_acess...|                      1893|            6550|                 1|\n",
      "|           5|            SC|179.99|        42.85|   ferramentas_jardim|                      2188|            7650|                 2|\n",
      "+------------+--------------+------+-------------+---------------------+--------------------------+----------------+------------------+\n",
      "only showing top 5 rows\n",
      "\n"
     ]
    }
   ],
   "source": [
    "tmp4= tmp3.join(product_df,tmp3.product_id == product_df.product_id,'left_outer').drop(product_df.product_id).drop(tmp3.product_id).drop(tmp3.order_id).drop(tmp3.customer_id)\n",
    "tmp4.show(5)"
   ]
  },
  {
   "cell_type": "code",
   "execution_count": 16,
   "metadata": {},
   "outputs": [
    {
     "name": "stdout",
     "output_type": "stream",
     "text": [
      "+------------+--------------+------+-------------+--------------------------+----------------+------------------+-----------------------------+\n",
      "|survey_score|customer_state| price|freight_value|product_description_lenght|product_weight_g|product_photos_qty|product_category_name_english|\n",
      "+------------+--------------+------+-------------+--------------------------+----------------+------------------+-----------------------------+\n",
      "|           4|            SP| 185.0|        13.63|                       858|            1300|                 1|               sports_leisure|\n",
      "|           4|            SP| 185.0|        13.63|                       858|            1300|                 1|               sports_leisure|\n",
      "|           5|            SP| 79.79|          8.3|                       493|             245|                 1|         computers_accesso...|\n",
      "|           5|            BA| 149.0|        45.12|                      1893|            6550|                 1|         computers_accesso...|\n",
      "|           5|            SC|179.99|        42.85|                      2188|            7650|                 2|                 garden_tools|\n",
      "+------------+--------------+------+-------------+--------------------------+----------------+------------------+-----------------------------+\n",
      "only showing top 5 rows\n",
      "\n"
     ]
    }
   ],
   "source": [
    "mergedDf = tmp4.join(product_category_name_translation_df,tmp4.product_category_name == product_category_name_translation_df.product_category_name,'left_outer').drop(product_category_name_translation_df.product_category_name).drop(tmp4.product_category_name)\n",
    "mergedDf.show(5)"
   ]
  },
  {
   "cell_type": "markdown",
   "metadata": {},
   "source": [
    "### 5) Drop Missing Values"
   ]
  },
  {
   "cell_type": "code",
   "execution_count": 17,
   "metadata": {},
   "outputs": [
    {
     "name": "stdout",
     "output_type": "stream",
     "text": [
      "114100\n",
      "111685\n"
     ]
    }
   ],
   "source": [
    "print(mergedDf.count())\n",
    "new_merged = mergedDf.dropna(how='any')\n",
    "print(new_merged.count())"
   ]
  },
  {
   "cell_type": "markdown",
   "metadata": {},
   "source": [
    "### 6) Summary Statistic"
   ]
  },
  {
   "cell_type": "code",
   "execution_count": 18,
   "metadata": {},
   "outputs": [
    {
     "data": {
      "text/html": [
       "<div>\n",
       "<style scoped>\n",
       "    .dataframe tbody tr th:only-of-type {\n",
       "        vertical-align: middle;\n",
       "    }\n",
       "\n",
       "    .dataframe tbody tr th {\n",
       "        vertical-align: top;\n",
       "    }\n",
       "\n",
       "    .dataframe thead th {\n",
       "        text-align: right;\n",
       "    }\n",
       "</style>\n",
       "<table border=\"1\" class=\"dataframe\">\n",
       "  <thead>\n",
       "    <tr style=\"text-align: right;\">\n",
       "      <th></th>\n",
       "      <th>0</th>\n",
       "      <th>1</th>\n",
       "      <th>2</th>\n",
       "      <th>3</th>\n",
       "      <th>4</th>\n",
       "    </tr>\n",
       "  </thead>\n",
       "  <tbody>\n",
       "    <tr>\n",
       "      <th>summary</th>\n",
       "      <td>count</td>\n",
       "      <td>mean</td>\n",
       "      <td>stddev</td>\n",
       "      <td>min</td>\n",
       "      <td>max</td>\n",
       "    </tr>\n",
       "    <tr>\n",
       "      <th>survey_score</th>\n",
       "      <td>111685</td>\n",
       "      <td>4.018408917938846</td>\n",
       "      <td>1.3976813113533544</td>\n",
       "      <td>1</td>\n",
       "      <td>5</td>\n",
       "    </tr>\n",
       "    <tr>\n",
       "      <th>price</th>\n",
       "      <td>111685</td>\n",
       "      <td>120.56640847031595</td>\n",
       "      <td>182.93679423957104</td>\n",
       "      <td>0.85</td>\n",
       "      <td>6735.0</td>\n",
       "    </tr>\n",
       "    <tr>\n",
       "      <th>freight_value</th>\n",
       "      <td>111685</td>\n",
       "      <td>20.01440739580049</td>\n",
       "      <td>15.817217676761489</td>\n",
       "      <td>0.0</td>\n",
       "      <td>409.68</td>\n",
       "    </tr>\n",
       "    <tr>\n",
       "      <th>product_description_lenght</th>\n",
       "      <td>111685</td>\n",
       "      <td>786.8846219277432</td>\n",
       "      <td>651.7826713195772</td>\n",
       "      <td>4</td>\n",
       "      <td>3992</td>\n",
       "    </tr>\n",
       "    <tr>\n",
       "      <th>product_weight_g</th>\n",
       "      <td>111685</td>\n",
       "      <td>2098.11401710167</td>\n",
       "      <td>3753.0166193838927</td>\n",
       "      <td>0</td>\n",
       "      <td>40425</td>\n",
       "    </tr>\n",
       "    <tr>\n",
       "      <th>product_photos_qty</th>\n",
       "      <td>111685</td>\n",
       "      <td>2.2067063616421185</td>\n",
       "      <td>1.7194586017380404</td>\n",
       "      <td>1</td>\n",
       "      <td>20</td>\n",
       "    </tr>\n",
       "  </tbody>\n",
       "</table>\n",
       "</div>"
      ],
      "text/plain": [
       "                                 0                   1                   2  \\\n",
       "summary                      count                mean              stddev   \n",
       "survey_score                111685   4.018408917938846  1.3976813113533544   \n",
       "price                       111685  120.56640847031595  182.93679423957104   \n",
       "freight_value               111685   20.01440739580049  15.817217676761489   \n",
       "product_description_lenght  111685   786.8846219277432   651.7826713195772   \n",
       "product_weight_g            111685    2098.11401710167  3753.0166193838927   \n",
       "product_photos_qty          111685  2.2067063616421185  1.7194586017380404   \n",
       "\n",
       "                               3       4  \n",
       "summary                      min     max  \n",
       "survey_score                   1       5  \n",
       "price                       0.85  6735.0  \n",
       "freight_value                0.0  409.68  \n",
       "product_description_lenght     4    3992  \n",
       "product_weight_g               0   40425  \n",
       "product_photos_qty             1      20  "
      ]
     },
     "execution_count": 18,
     "metadata": {},
     "output_type": "execute_result"
    }
   ],
   "source": [
    "numerical_cols = ['survey_score', 'price', 'freight_value','product_description_lenght', 'product_weight_g', 'product_photos_qty']\n",
    "new_merged.select(numerical_cols).describe().toPandas().round(2).transpose()"
   ]
  },
  {
   "cell_type": "markdown",
   "metadata": {},
   "source": [
    "### 7) Correlation"
   ]
  },
  {
   "cell_type": "code",
   "execution_count": 19,
   "metadata": {},
   "outputs": [],
   "source": [
    "corr = {}\n",
    "for col in numerical_cols:\n",
    "    corr[col] = new_merged.stat.corr('survey_score', col)"
   ]
  },
  {
   "cell_type": "code",
   "execution_count": 20,
   "metadata": {},
   "outputs": [
    {
     "name": "stdout",
     "output_type": "stream",
     "text": [
      "survey_score 1.0\n",
      "product_photos_qty 0.022600206268197497\n",
      "product_description_lenght 0.012646795882276782\n",
      "price -0.0051732329552471035\n",
      "product_weight_g -0.031151153648561573\n",
      "freight_value -0.03713373327931963\n"
     ]
    }
   ],
   "source": [
    "for w in sorted(corr, key=corr.get, reverse=True):\n",
    "  print(w, corr[w])"
   ]
  },
  {
   "cell_type": "markdown",
   "metadata": {},
   "source": [
    "### 8) Histogram"
   ]
  },
  {
   "cell_type": "code",
   "execution_count": 21,
   "metadata": {},
   "outputs": [
    {
     "data": {
      "text/plain": [
       "array([[<matplotlib.axes._subplots.AxesSubplot object at 0x7f05f83984a8>]],\n",
       "      dtype=object)"
      ]
     },
     "execution_count": 21,
     "metadata": {},
     "output_type": "execute_result"
    },
    {
     "data": {
      "image/png": "[encoded data removed]",
      "text/plain": [
       "<Figure size 432x288 with 1 Axes>"
      ]
     },
     "metadata": {
      "needs_background": "light"
     },
     "output_type": "display_data"
    }
   ],
   "source": [
    "new_merged.select('survey_score').toPandas().hist()"
   ]
  },
  {
   "cell_type": "code",
   "execution_count": 22,
   "metadata": {},
   "outputs": [],
   "source": [
    "score1 = new_merged.filter(new_merged.survey_score==1)\n",
    "score2 = new_merged.filter(new_merged.survey_score==2)\n",
    "score3 = new_merged.filter(new_merged.survey_score==3)\n",
    "score4 = new_merged.filter(new_merged.survey_score==4)\n",
    "score5 = new_merged.filter(new_merged.survey_score==5)"
   ]
  },
  {
   "cell_type": "code",
   "execution_count": 23,
   "metadata": {},
   "outputs": [],
   "source": [
    "new_df = score1.union(score1).union(score1).union(score1)\n",
    "new_df = new_df.union(score2).union(score2).union(score2).union(score2).union(score2).union(score2).union(score2).union(score2).union(score2).union(score2).union(score2).union(score2).union(score2).union(score2).union(score2)\n",
    "new_df = new_df.union(score3).union(score3).union(score3).union(score3).union(score3).union(score3)\n",
    "new_df = new_df.union(score4).union(score4).union(score4)\n",
    "new_df = new_df.union(score5)"
   ]
  },
  {
   "cell_type": "code",
   "execution_count": 24,
   "metadata": {},
   "outputs": [
    {
     "data": {
      "text/plain": [
       "array([[<matplotlib.axes._subplots.AxesSubplot object at 0x7f061533cdd8>]],\n",
       "      dtype=object)"
      ]
     },
     "execution_count": 24,
     "metadata": {},
     "output_type": "execute_result"
    },
    {
     "data": {
      "image/png": "[encoded data removed]",
      "text/plain": [
       "<Figure size 432x288 with 1 Axes>"
      ]
     },
     "metadata": {
      "needs_background": "light"
     },
     "output_type": "display_data"
    }
   ],
   "source": [
    "new_df.select('survey_score').toPandas().hist()"
   ]
  },
  {
   "cell_type": "markdown",
   "metadata": {},
   "source": [
    "### 9) Remove Outliers"
   ]
  },
  {
   "cell_type": "markdown",
   "metadata": {},
   "source": [
    "In this case, we decide to use 1 as the lower limit and 5 as the upper limit after looking at the summary statistics of “survey score” as well as the histogram. Scores that fall in this range are reasonable and so can be used for classification."
   ]
  },
  {
   "cell_type": "code",
   "execution_count": 25,
   "metadata": {},
   "outputs": [
    {
     "name": "stdout",
     "output_type": "stream",
     "text": [
      "Upper limit is  5\n",
      "Lower limit is  1\n",
      "Number of outlier rows removed  0\n",
      "Number of rows rermaining  299300\n"
     ]
    }
   ],
   "source": [
    "mean_exp = new_df.select(avg(new_df[\"survey_score\"])).collect()[0][0]\n",
    "std_exp = new_df.select(stddev(new_df[\"survey_score\"])).collect()[0][0]\n",
    "filtered_df = new_df.filter((new_df['survey_score'] <= 5) & (new_df['survey_score'] >= 1))\n",
    "\n",
    "print ('Upper limit is ', 5)\n",
    "print ('Lower limit is ', 1)\n",
    "print ('Number of outlier rows removed ', new_df.count() - filtered_df.count())\n",
    "print ('Number of rows rermaining ', filtered_df.count())\n",
    "\n"
   ]
  },
  {
   "cell_type": "markdown",
   "metadata": {},
   "source": [
    "### 10) Data Prep "
   ]
  },
  {
   "cell_type": "markdown",
   "metadata": {},
   "source": [
    "#### a) Create an index column for string column"
   ]
  },
  {
   "cell_type": "markdown",
   "metadata": {},
   "source": [
    "In the data prep part, in order to add two string columns: “customer_state”  and “product_category_name” into our features using vector assembler, we first transform these two columns from string to double."
   ]
  },
  {
   "cell_type": "code",
   "execution_count": 26,
   "metadata": {},
   "outputs": [
    {
     "name": "stdout",
     "output_type": "stream",
     "text": [
      "root\n",
      " |-- survey_score: integer (nullable = true)\n",
      " |-- customer_state: string (nullable = true)\n",
      " |-- price: double (nullable = true)\n",
      " |-- freight_value: double (nullable = true)\n",
      " |-- product_description_lenght: integer (nullable = true)\n",
      " |-- product_weight_g: integer (nullable = true)\n",
      " |-- product_photos_qty: integer (nullable = true)\n",
      " |-- product_category_name_english: string (nullable = true)\n",
      " |-- customer_stateIndexed: double (nullable = false)\n",
      "\n"
     ]
    }
   ],
   "source": [
    "from pyspark.ml.feature import StringIndexer\n",
    "\n",
    "string_col = 'customer_state'\n",
    "indexedCol = '{}Indexed'.format(string_col)\n",
    "indexedDf = StringIndexer(inputCol=string_col, outputCol=indexedCol,handleInvalid=\"skip\").fit(filtered_df).transform(filtered_df)\n",
    "indexedDf.printSchema()"
   ]
  },
  {
   "cell_type": "code",
   "execution_count": 27,
   "metadata": {},
   "outputs": [
    {
     "name": "stdout",
     "output_type": "stream",
     "text": [
      "root\n",
      " |-- survey_score: integer (nullable = true)\n",
      " |-- customer_state: string (nullable = true)\n",
      " |-- price: double (nullable = true)\n",
      " |-- freight_value: double (nullable = true)\n",
      " |-- product_description_lenght: integer (nullable = true)\n",
      " |-- product_weight_g: integer (nullable = true)\n",
      " |-- product_photos_qty: integer (nullable = true)\n",
      " |-- product_category_name_english: string (nullable = true)\n",
      " |-- customer_stateIndexed: double (nullable = false)\n",
      " |-- product_category_name_englishIndexed: double (nullable = false)\n",
      "\n"
     ]
    }
   ],
   "source": [
    "string_col1 = 'product_category_name_english'\n",
    "indexedCol1 = '{}Indexed'.format(string_col1)\n",
    "indexedDf1 = StringIndexer(inputCol=string_col1, outputCol=indexedCol1,handleInvalid=\"skip\").fit(indexedDf).transform(indexedDf)\n",
    "indexedDf1.printSchema()"
   ]
  },
  {
   "cell_type": "markdown",
   "metadata": {},
   "source": [
    "#### b) Bucketizer customer state "
   ]
  },
  {
   "cell_type": "code",
   "execution_count": 28,
   "metadata": {},
   "outputs": [],
   "source": [
    "row1 = indexedDf1.agg({\"customer_stateIndexed\": \"max\"}).collect()[0]\n",
    "outlierUpperLim = row1[\"max(customer_stateIndexed)\"]"
   ]
  },
  {
   "cell_type": "code",
   "execution_count": 29,
   "metadata": {},
   "outputs": [
    {
     "name": "stdout",
     "output_type": "stream",
     "text": [
      "Bucketizer output with 6 buckets\n",
      "+------------+--------------+-----+-------------+--------------------------+----------------+------------------+-----------------------------+---------------------+------------------------------------+---------------+\n",
      "|survey_score|customer_state|price|freight_value|product_description_lenght|product_weight_g|product_photos_qty|product_category_name_english|customer_stateIndexed|product_category_name_englishIndexed|stateBucketized|\n",
      "+------------+--------------+-----+-------------+--------------------------+----------------+------------------+-----------------------------+---------------------+------------------------------------+---------------+\n",
      "|           1|            RS| 19.9|        16.05|                       432|             300|                 2|              furniture_decor|                  3.0|                                 1.0|            0.0|\n",
      "|           1|            RJ| 99.0|        30.53|                       450|            9000|                 1|                 garden_tools|                  1.0|                                 8.0|            0.0|\n",
      "|           1|            RJ| 99.0|        30.53|                       450|            9000|                 1|                 garden_tools|                  1.0|                                 8.0|            0.0|\n",
      "|           1|            BA| 39.5|        48.64|                       300|             350|                 1|                         baby|                  5.0|                                13.0|            1.0|\n",
      "|           1|            BA| 90.9|        48.64|                       233|           10950|                 1|                         baby|                  5.0|                                13.0|            1.0|\n",
      "+------------+--------------+-----+-------------+--------------------------+----------------+------------------+-----------------------------+---------------------+------------------------------------+---------------+\n",
      "only showing top 5 rows\n",
      "\n"
     ]
    }
   ],
   "source": [
    "from pyspark.ml.feature import Bucketizer\n",
    "\n",
    "bucketSize = 5 # TODO\n",
    "upperLim = int(outlierUpperLim + bucketSize)\n",
    "splits = list(range(0, upperLim, bucketSize))\n",
    "\n",
    "bucketizer = Bucketizer(inputCol = 'customer_stateIndexed', outputCol = 'stateBucketized', splits=splits)\n",
    "\n",
    "# Transform original data into its bucket index.\n",
    "bucketedData = bucketizer.transform(indexedDf1)\n",
    "\n",
    "print(\"Bucketizer output with %d buckets\" % (len(bucketizer.getSplits())-1))\n",
    "bucketedData.show(5)\n",
    "\n",
    "\n"
   ]
  },
  {
   "cell_type": "markdown",
   "metadata": {},
   "source": [
    "#### c) Bucketizer catogery name "
   ]
  },
  {
   "cell_type": "code",
   "execution_count": 30,
   "metadata": {},
   "outputs": [],
   "source": [
    "row2 = indexedDf1.agg({\"product_category_name_englishIndexed\": \"max\"}).collect()[0]\n",
    "outlierUpperLim = row2[\"max(product_category_name_englishIndexed)\"]"
   ]
  },
  {
   "cell_type": "code",
   "execution_count": 31,
   "metadata": {},
   "outputs": [
    {
     "name": "stdout",
     "output_type": "stream",
     "text": [
      "Bucketizer output with 14 buckets\n",
      "+------------+--------------+-----+-------------+--------------------------+----------------+------------------+-----------------------------+---------------------+------------------------------------+---------------+------------------+\n",
      "|survey_score|customer_state|price|freight_value|product_description_lenght|product_weight_g|product_photos_qty|product_category_name_english|customer_stateIndexed|product_category_name_englishIndexed|stateBucketized|catogoryBucketized|\n",
      "+------------+--------------+-----+-------------+--------------------------+----------------+------------------+-----------------------------+---------------------+------------------------------------+---------------+------------------+\n",
      "|           1|            RS| 19.9|        16.05|                       432|             300|                 2|              furniture_decor|                  3.0|                                 1.0|            0.0|               0.0|\n",
      "|           1|            RJ| 99.0|        30.53|                       450|            9000|                 1|                 garden_tools|                  1.0|                                 8.0|            0.0|               1.0|\n",
      "|           1|            RJ| 99.0|        30.53|                       450|            9000|                 1|                 garden_tools|                  1.0|                                 8.0|            0.0|               1.0|\n",
      "|           1|            BA| 39.5|        48.64|                       300|             350|                 1|                         baby|                  5.0|                                13.0|            1.0|               2.0|\n",
      "|           1|            BA| 90.9|        48.64|                       233|           10950|                 1|                         baby|                  5.0|                                13.0|            1.0|               2.0|\n",
      "+------------+--------------+-----+-------------+--------------------------+----------------+------------------+-----------------------------+---------------------+------------------------------------+---------------+------------------+\n",
      "only showing top 5 rows\n",
      "\n"
     ]
    }
   ],
   "source": [
    "bucketSize = 5 # TODO\n",
    "upperLim = int(outlierUpperLim + bucketSize)\n",
    "splits = list(range(0, upperLim, bucketSize))\n",
    "\n",
    "bucketizer = Bucketizer(inputCol = 'product_category_name_englishIndexed', outputCol = 'catogoryBucketized', splits=splits)\n",
    "\n",
    "# Transform original data into its bucket index.\n",
    "bucketedData = bucketizer.transform(bucketedData)\n",
    "\n",
    "print(\"Bucketizer output with %d buckets\" % (len(bucketizer.getSplits())-1))\n",
    "bucketedData.show(5)"
   ]
  },
  {
   "cell_type": "markdown",
   "metadata": {},
   "source": [
    "#### d) Create a feature vector column "
   ]
  },
  {
   "cell_type": "code",
   "execution_count": 114,
   "metadata": {},
   "outputs": [
    {
     "name": "stdout",
     "output_type": "stream",
     "text": [
      "+------------+-----+-------------+--------------------------+----------------+------------------+---------------+------------------+--------------------+\n",
      "|survey_score|price|freight_value|product_description_lenght|product_weight_g|product_photos_qty|stateBucketized|catogoryBucketized|            features|\n",
      "+------------+-----+-------------+--------------------------+----------------+------------------+---------------+------------------+--------------------+\n",
      "|           1| 19.9|        16.05|                       432|             300|                 2|            0.0|               0.0|[19.9,432.0,16.05...|\n",
      "|           1| 99.0|        30.53|                       450|            9000|                 1|            0.0|               1.0|[99.0,450.0,30.53...|\n",
      "|           1| 99.0|        30.53|                       450|            9000|                 1|            0.0|               1.0|[99.0,450.0,30.53...|\n",
      "|           1| 39.5|        48.64|                       300|             350|                 1|            1.0|               2.0|[39.5,300.0,48.64...|\n",
      "|           1| 90.9|        48.64|                       233|           10950|                 1|            1.0|               2.0|[90.9,233.0,48.64...|\n",
      "|           1|186.9|         38.0|                       331|             100|                 4|            2.0|               7.0|[186.9,331.0,38.0...|\n",
      "|           1|339.0|        17.12|                       664|           14300|                 6|            0.0|               1.0|[339.0,664.0,17.1...|\n",
      "|           1|14.49|         7.87|                      1782|             125|                 1|            0.0|               0.0|[14.49,1782.0,7.8...|\n",
      "|           1|139.0|        14.72|                       511|            8875|                 4|            0.0|               1.0|[139.0,511.0,14.7...|\n",
      "|           1| 60.0|        15.52|                      1153|             100|                 2|            0.0|               0.0|[60.0,1153.0,15.5...|\n",
      "+------------+-----+-------------+--------------------------+----------------+------------------+---------------+------------------+--------------------+\n",
      "only showing top 10 rows\n",
      "\n"
     ]
    }
   ],
   "source": [
    "from pyspark.ml.feature import VectorAssembler\n",
    "\n",
    "inputCols = ['price','product_description_lenght','freight_value','product_weight_g','product_photos_qty','stateBucketized','catogoryBucketized']\n",
    "assembler = VectorAssembler(inputCols=inputCols, outputCol=\"features\")#handleInvalid=\"skip\")\n",
    "data = assembler.transform(bucketedData).drop('customer_state').drop('product_category_name').drop('customer_stateIndexed').drop('product_category_name_englishIndexed').drop('product_category_name_english')\n",
    "data.show(10)"
   ]
  },
  {
   "cell_type": "code",
   "execution_count": 33,
   "metadata": {},
   "outputs": [
    {
     "name": "stdout",
     "output_type": "stream",
     "text": [
      "+------------+-----+-------------+--------------------------+----------------+------------------+---------------+------------------+--------------------+\n",
      "|survey_score|price|freight_value|product_description_lenght|product_weight_g|product_photos_qty|stateBucketized|catogoryBucketized|            features|\n",
      "+------------+-----+-------------+--------------------------+----------------+------------------+---------------+------------------+--------------------+\n",
      "|           1| 19.9|        16.05|                       432|             300|                 2|            0.0|               0.0|[1.0,19.9,432.0,1...|\n",
      "|           1| 99.0|        30.53|                       450|            9000|                 1|            0.0|               1.0|[1.0,99.0,450.0,3...|\n",
      "|           1| 99.0|        30.53|                       450|            9000|                 1|            0.0|               1.0|[1.0,99.0,450.0,3...|\n",
      "|           1| 39.5|        48.64|                       300|             350|                 1|            1.0|               2.0|[1.0,39.5,300.0,4...|\n",
      "|           1| 90.9|        48.64|                       233|           10950|                 1|            1.0|               2.0|[1.0,90.9,233.0,4...|\n",
      "|           1|186.9|         38.0|                       331|             100|                 4|            2.0|               7.0|[1.0,186.9,331.0,...|\n",
      "|           1|339.0|        17.12|                       664|           14300|                 6|            0.0|               1.0|[1.0,339.0,664.0,...|\n",
      "|           1|14.49|         7.87|                      1782|             125|                 1|            0.0|               0.0|[1.0,14.49,1782.0...|\n",
      "|           1|139.0|        14.72|                       511|            8875|                 4|            0.0|               1.0|[1.0,139.0,511.0,...|\n",
      "|           1| 60.0|        15.52|                      1153|             100|                 2|            0.0|               0.0|[1.0,60.0,1153.0,...|\n",
      "+------------+-----+-------------+--------------------------+----------------+------------------+---------------+------------------+--------------------+\n",
      "only showing top 10 rows\n",
      "\n"
     ]
    }
   ],
   "source": [
    "inputCols1 = ['survey_score','price','product_description_lenght','freight_value','product_weight_g','product_photos_qty','stateBucketized','catogoryBucketized']\n",
    "assembler = VectorAssembler(inputCols=inputCols1, outputCol=\"features\")#handleInvalid=\"skip\")\n",
    "Corrdata = assembler.transform(bucketedData).drop('customer_state').drop('product_category_name').drop('customer_stateIndexed').drop('product_category_name_englishIndexed').drop('product_category_name_english')\n",
    "Corrdata.show(10)"
   ]
  },
  {
   "cell_type": "code",
   "execution_count": 34,
   "metadata": {},
   "outputs": [
    {
     "data": {
      "text/html": [
       "<div>\n",
       "<style scoped>\n",
       "    .dataframe tbody tr th:only-of-type {\n",
       "        vertical-align: middle;\n",
       "    }\n",
       "\n",
       "    .dataframe tbody tr th {\n",
       "        vertical-align: top;\n",
       "    }\n",
       "\n",
       "    .dataframe thead th {\n",
       "        text-align: right;\n",
       "    }\n",
       "</style>\n",
       "<table border=\"1\" class=\"dataframe\">\n",
       "  <thead>\n",
       "    <tr style=\"text-align: right;\">\n",
       "      <th></th>\n",
       "      <th>survey_score</th>\n",
       "      <th>price</th>\n",
       "      <th>product_description_lenght</th>\n",
       "      <th>freight_value</th>\n",
       "      <th>product_weight_g</th>\n",
       "      <th>product_photos_qty</th>\n",
       "      <th>stateBucketized</th>\n",
       "      <th>catogoryBucketized</th>\n",
       "    </tr>\n",
       "  </thead>\n",
       "  <tbody>\n",
       "    <tr>\n",
       "      <th>survey_score</th>\n",
       "      <td>1.000000</td>\n",
       "      <td>-0.007460</td>\n",
       "      <td>0.019482</td>\n",
       "      <td>-0.036840</td>\n",
       "      <td>-0.029294</td>\n",
       "      <td>0.027961</td>\n",
       "      <td>-0.031953</td>\n",
       "      <td>0.022043</td>\n",
       "    </tr>\n",
       "    <tr>\n",
       "      <th>price</th>\n",
       "      <td>-0.007460</td>\n",
       "      <td>1.000000</td>\n",
       "      <td>0.194829</td>\n",
       "      <td>0.417537</td>\n",
       "      <td>0.350539</td>\n",
       "      <td>0.053355</td>\n",
       "      <td>0.067726</td>\n",
       "      <td>0.095780</td>\n",
       "    </tr>\n",
       "    <tr>\n",
       "      <th>product_description_lenght</th>\n",
       "      <td>0.019482</td>\n",
       "      <td>0.194829</td>\n",
       "      <td>1.000000</td>\n",
       "      <td>0.095279</td>\n",
       "      <td>0.066782</td>\n",
       "      <td>0.119988</td>\n",
       "      <td>0.030361</td>\n",
       "      <td>0.027836</td>\n",
       "    </tr>\n",
       "    <tr>\n",
       "      <th>freight_value</th>\n",
       "      <td>-0.036840</td>\n",
       "      <td>0.417537</td>\n",
       "      <td>0.095279</td>\n",
       "      <td>1.000000</td>\n",
       "      <td>0.618671</td>\n",
       "      <td>0.012162</td>\n",
       "      <td>0.294271</td>\n",
       "      <td>0.088617</td>\n",
       "    </tr>\n",
       "    <tr>\n",
       "      <th>product_weight_g</th>\n",
       "      <td>-0.029294</td>\n",
       "      <td>0.350539</td>\n",
       "      <td>0.066782</td>\n",
       "      <td>0.618671</td>\n",
       "      <td>1.000000</td>\n",
       "      <td>0.008361</td>\n",
       "      <td>-0.001902</td>\n",
       "      <td>0.138210</td>\n",
       "    </tr>\n",
       "    <tr>\n",
       "      <th>product_photos_qty</th>\n",
       "      <td>0.027961</td>\n",
       "      <td>0.053355</td>\n",
       "      <td>0.119988</td>\n",
       "      <td>0.012162</td>\n",
       "      <td>0.008361</td>\n",
       "      <td>1.000000</td>\n",
       "      <td>0.043012</td>\n",
       "      <td>0.084111</td>\n",
       "    </tr>\n",
       "    <tr>\n",
       "      <th>stateBucketized</th>\n",
       "      <td>-0.031953</td>\n",
       "      <td>0.067726</td>\n",
       "      <td>0.030361</td>\n",
       "      <td>0.294271</td>\n",
       "      <td>-0.001902</td>\n",
       "      <td>0.043012</td>\n",
       "      <td>1.000000</td>\n",
       "      <td>0.003852</td>\n",
       "    </tr>\n",
       "    <tr>\n",
       "      <th>catogoryBucketized</th>\n",
       "      <td>0.022043</td>\n",
       "      <td>0.095780</td>\n",
       "      <td>0.027836</td>\n",
       "      <td>0.088617</td>\n",
       "      <td>0.138210</td>\n",
       "      <td>0.084111</td>\n",
       "      <td>0.003852</td>\n",
       "      <td>1.000000</td>\n",
       "    </tr>\n",
       "  </tbody>\n",
       "</table>\n",
       "</div>"
      ],
      "text/plain": [
       "                            survey_score     price  \\\n",
       "survey_score                    1.000000 -0.007460   \n",
       "price                          -0.007460  1.000000   \n",
       "product_description_lenght      0.019482  0.194829   \n",
       "freight_value                  -0.036840  0.417537   \n",
       "product_weight_g               -0.029294  0.350539   \n",
       "product_photos_qty              0.027961  0.053355   \n",
       "stateBucketized                -0.031953  0.067726   \n",
       "catogoryBucketized              0.022043  0.095780   \n",
       "\n",
       "                            product_description_lenght  freight_value  \\\n",
       "survey_score                                  0.019482      -0.036840   \n",
       "price                                         0.194829       0.417537   \n",
       "product_description_lenght                    1.000000       0.095279   \n",
       "freight_value                                 0.095279       1.000000   \n",
       "product_weight_g                              0.066782       0.618671   \n",
       "product_photos_qty                            0.119988       0.012162   \n",
       "stateBucketized                               0.030361       0.294271   \n",
       "catogoryBucketized                            0.027836       0.088617   \n",
       "\n",
       "                            product_weight_g  product_photos_qty  \\\n",
       "survey_score                       -0.029294            0.027961   \n",
       "price                               0.350539            0.053355   \n",
       "product_description_lenght          0.066782            0.119988   \n",
       "freight_value                       0.618671            0.012162   \n",
       "product_weight_g                    1.000000            0.008361   \n",
       "product_photos_qty                  0.008361            1.000000   \n",
       "stateBucketized                    -0.001902            0.043012   \n",
       "catogoryBucketized                  0.138210            0.084111   \n",
       "\n",
       "                            stateBucketized  catogoryBucketized  \n",
       "survey_score                      -0.031953            0.022043  \n",
       "price                              0.067726            0.095780  \n",
       "product_description_lenght         0.030361            0.027836  \n",
       "freight_value                      0.294271            0.088617  \n",
       "product_weight_g                  -0.001902            0.138210  \n",
       "product_photos_qty                 0.043012            0.084111  \n",
       "stateBucketized                    1.000000            0.003852  \n",
       "catogoryBucketized                 0.003852            1.000000  "
      ]
     },
     "execution_count": 34,
     "metadata": {},
     "output_type": "execute_result"
    }
   ],
   "source": [
    "from pyspark.ml.stat import Correlation\n",
    "\n",
    "# Get correlation DataFrame, collect and extract a pyspark.mllib.linalg.DenseMatrix, convert to array \n",
    "corr_mat = Correlation.corr(Corrdata, 'features').collect()[0][0].toArray()\n",
    "\n",
    "# Create Pandas DataFrame from correlation matrix\n",
    "corr_mat = pd.DataFrame(corr_mat, index=inputCols1, columns=inputCols1)\n",
    "corr_mat.head(len(inputCols1))"
   ]
  },
  {
   "cell_type": "code",
   "execution_count": 67,
   "metadata": {},
   "outputs": [
    {
     "data": {
      "image/png": "[encoded data removed]",
      "text/plain": [
       "<Figure size 576x576 with 2 Axes>"
      ]
     },
     "metadata": {
      "needs_background": "light"
     },
     "output_type": "display_data"
    }
   ],
   "source": [
    "import utils\n",
    "import matplotlib.pyplot as plt\n",
    "\n",
    "fig, ax = plt.subplots(figsize=(8,8))\n",
    "\n",
    "im, cbar = utils.heatmap(corr_mat, inputCols1, inputCols1, ax=ax,\n",
    "                         cmap=\"RdPu\", cbarlabel=\"Pearson Correlation\")\n",
    "\n",
    "texts = utils.annotate_heatmap(im, valfmt=\"{x:.1f}\")\n",
    "\n",
    "fig.tight_layout()\n",
    "plt.show()"
   ]
  },
  {
   "cell_type": "markdown",
   "metadata": {},
   "source": [
    "#### e) Spit the dataset into train and test"
   ]
  },
  {
   "cell_type": "code",
   "execution_count": 36,
   "metadata": {},
   "outputs": [
    {
     "name": "stdout",
     "output_type": "stream",
     "text": [
      "+------------+-----+-------------+--------------------------+----------------+------------------+---------------+------------------+--------------------+\n",
      "|survey_score|price|freight_value|product_description_lenght|product_weight_g|product_photos_qty|stateBucketized|catogoryBucketized|            features|\n",
      "+------------+-----+-------------+--------------------------+----------------+------------------+---------------+------------------+--------------------+\n",
      "|           1| 4.99|        37.04|                       421|             200|                 2|            2.0|               2.0|[4.99,421.0,37.04...|\n",
      "|           1| 5.99|        16.11|                       359|             150|                 4|            0.0|               2.0|[5.99,359.0,16.11...|\n",
      "|           1|  6.0|         7.78|                       895|              50|                 1|            0.0|               0.0|[6.0,895.0,7.78,5...|\n",
      "|           1|  6.9|        15.65|                       137|             100|                 2|            1.0|               1.0|[6.9,137.0,15.65,...|\n",
      "|           1|  6.9|        18.23|                       225|             100|                 2|            1.0|               2.0|[6.9,225.0,18.23,...|\n",
      "+------------+-----+-------------+--------------------------+----------------+------------------+---------------+------------------+--------------------+\n",
      "only showing top 5 rows\n",
      "\n",
      "+------------+-----+-------------+--------------------------+----------------+------------------+---------------+------------------+--------------------+\n",
      "|survey_score|price|freight_value|product_description_lenght|product_weight_g|product_photos_qty|stateBucketized|catogoryBucketized|            features|\n",
      "+------------+-----+-------------+--------------------------+----------------+------------------+---------------+------------------+--------------------+\n",
      "|           1| 7.45|         14.1|                       338|            1200|                 2|            0.0|               0.0|[7.45,338.0,14.1,...|\n",
      "|           1| 7.45|         14.1|                       338|            1200|                 2|            0.0|               0.0|[7.45,338.0,14.1,...|\n",
      "|           1|  8.9|         8.27|                       456|              50|                 1|            0.0|               0.0|[8.9,456.0,8.27,5...|\n",
      "|           1| 8.99|        23.51|                        92|              50|                 1|            0.0|               0.0|[8.99,92.0,23.51,...|\n",
      "|           1|  9.5|         14.1|                       372|             150|                 1|            1.0|               2.0|[9.5,372.0,14.1,1...|\n",
      "+------------+-----+-------------+--------------------------+----------------+------------------+---------------+------------------+--------------------+\n",
      "only showing top 5 rows\n",
      "\n"
     ]
    }
   ],
   "source": [
    "trainDf, testDf = data.randomSplit([0.75, 0.25])\n",
    "trainDf.show(5)\n",
    "testDf.show(5)"
   ]
  },
  {
   "cell_type": "markdown",
   "metadata": {},
   "source": [
    "### 11) Train and Evaluate Decision Tree Classifier"
   ]
  },
  {
   "cell_type": "markdown",
   "metadata": {},
   "source": [
    "#### a) Fit the model"
   ]
  },
  {
   "cell_type": "code",
   "execution_count": 37,
   "metadata": {},
   "outputs": [],
   "source": [
    "from pyspark.ml.classification import DecisionTreeClassifier\n",
    "from pyspark.ml.evaluation import MulticlassClassificationEvaluator\n",
    "\n",
    "treeModel = DecisionTreeClassifier(labelCol='survey_score', featuresCol='features', maxDepth=15)\n",
    "\n",
    "# Fit the model\n",
    "modelNoTuning = treeModel.fit(trainDf)"
   ]
  },
  {
   "cell_type": "code",
   "execution_count": 38,
   "metadata": {},
   "outputs": [
    {
     "name": "stdout",
     "output_type": "stream",
     "text": [
      "DecisionTreeClassificationModel (uid=DecisionTreeClassifier_421ea909e95ff44890d2) of depth 15 with 10175 nodes\n"
     ]
    }
   ],
   "source": [
    "print(modelNoTuning)"
   ]
  },
  {
   "cell_type": "code",
   "execution_count": 39,
   "metadata": {},
   "outputs": [],
   "source": [
    "def ExtractFeatureImp(featureImp, dataset, featuresCol):\n",
    "    list_extract = []\n",
    "    for i in dataset.schema[featuresCol].metadata[\"ml_attr\"][\"attrs\"]:\n",
    "        list_extract = list_extract + dataset.schema[featuresCol].metadata[\"ml_attr\"][\"attrs\"][i]\n",
    "    varlist = pd.DataFrame(list_extract)\n",
    "    varlist['score'] = varlist['idx'].apply(lambda x: featureImp[x])\n",
    "    varlist = varlist[['name','score']]\n",
    "    return(varlist.sort_values('score', ascending = False))"
   ]
  },
  {
   "cell_type": "code",
   "execution_count": 40,
   "metadata": {},
   "outputs": [
    {
     "data": {
      "text/html": [
       "<div>\n",
       "<style scoped>\n",
       "    .dataframe tbody tr th:only-of-type {\n",
       "        vertical-align: middle;\n",
       "    }\n",
       "\n",
       "    .dataframe tbody tr th {\n",
       "        vertical-align: top;\n",
       "    }\n",
       "\n",
       "    .dataframe thead th {\n",
       "        text-align: right;\n",
       "    }\n",
       "</style>\n",
       "<table border=\"1\" class=\"dataframe\">\n",
       "  <thead>\n",
       "    <tr style=\"text-align: right;\">\n",
       "      <th></th>\n",
       "      <th>name</th>\n",
       "      <th>score</th>\n",
       "    </tr>\n",
       "  </thead>\n",
       "  <tbody>\n",
       "    <tr>\n",
       "      <th>0</th>\n",
       "      <td>price</td>\n",
       "      <td>0.247800</td>\n",
       "    </tr>\n",
       "    <tr>\n",
       "      <th>1</th>\n",
       "      <td>product_description_lenght</td>\n",
       "      <td>0.203116</td>\n",
       "    </tr>\n",
       "    <tr>\n",
       "      <th>2</th>\n",
       "      <td>freight_value</td>\n",
       "      <td>0.166244</td>\n",
       "    </tr>\n",
       "    <tr>\n",
       "      <th>3</th>\n",
       "      <td>product_weight_g</td>\n",
       "      <td>0.166190</td>\n",
       "    </tr>\n",
       "    <tr>\n",
       "      <th>6</th>\n",
       "      <td>catogoryBucketized</td>\n",
       "      <td>0.110312</td>\n",
       "    </tr>\n",
       "    <tr>\n",
       "      <th>4</th>\n",
       "      <td>product_photos_qty</td>\n",
       "      <td>0.065850</td>\n",
       "    </tr>\n",
       "    <tr>\n",
       "      <th>5</th>\n",
       "      <td>stateBucketized</td>\n",
       "      <td>0.040488</td>\n",
       "    </tr>\n",
       "  </tbody>\n",
       "</table>\n",
       "</div>"
      ],
      "text/plain": [
       "                         name     score\n",
       "0                       price  0.247800\n",
       "1  product_description_lenght  0.203116\n",
       "2               freight_value  0.166244\n",
       "3            product_weight_g  0.166190\n",
       "6          catogoryBucketized  0.110312\n",
       "4          product_photos_qty  0.065850\n",
       "5             stateBucketized  0.040488"
      ]
     },
     "execution_count": 40,
     "metadata": {},
     "output_type": "execute_result"
    }
   ],
   "source": [
    "ExtractFeatureImp(modelNoTuning.featureImportances, trainDf, \"features\").head(10)"
   ]
  },
  {
   "cell_type": "markdown",
   "metadata": {},
   "source": [
    "#### b) Predict and Evaluate"
   ]
  },
  {
   "cell_type": "code",
   "execution_count": 41,
   "metadata": {},
   "outputs": [
    {
     "name": "stdout",
     "output_type": "stream",
     "text": [
      "Test Acc = 0.380778 \n"
     ]
    }
   ],
   "source": [
    "predDf = modelNoTuning.transform(testDf)\n",
    "\n",
    "evaluator = MulticlassClassificationEvaluator(\n",
    "    labelCol='survey_score', predictionCol=\"prediction\", metricName=\"accuracy\")\n",
    "\n",
    "accuracy_pred= evaluator.evaluate(predDf)\n",
    "\n",
    "print(\"Test Acc = %g \" % (accuracy_pred))"
   ]
  },
  {
   "cell_type": "markdown",
   "metadata": {},
   "source": [
    "### 12) Train and Evaluate Decision Tree Classifier using Validation Data"
   ]
  },
  {
   "cell_type": "markdown",
   "metadata": {},
   "source": [
    "#### a) Use validation data to select the best model"
   ]
  },
  {
   "cell_type": "code",
   "execution_count": 49,
   "metadata": {},
   "outputs": [],
   "source": [
    "from pyspark.ml.tuning import ParamGridBuilder, TrainValidationSplit\n",
    "\n",
    "paramGrid = ParamGridBuilder() \\\n",
    "    .addGrid(treeModel.maxDepth, [5,10,15]) \\\n",
    "    .build()"
   ]
  },
  {
   "cell_type": "code",
   "execution_count": 50,
   "metadata": {},
   "outputs": [],
   "source": [
    "evaluator = MulticlassClassificationEvaluator(labelCol='survey_score', \n",
    "                                              predictionCol='prediction', \n",
    "                                              metricName='accuracy')\n",
    "\n",
    "tvs = TrainValidationSplit (estimator=treeModel,\n",
    "    estimatorParamMaps=paramGrid,\n",
    "    evaluator=evaluator,\n",
    "    trainRatio=0.7)"
   ]
  },
  {
   "cell_type": "code",
   "execution_count": 51,
   "metadata": {},
   "outputs": [],
   "source": [
    "tree = tvs.fit(trainDf)"
   ]
  },
  {
   "cell_type": "code",
   "execution_count": 52,
   "metadata": {},
   "outputs": [
    {
     "name": "stdout",
     "output_type": "stream",
     "text": [
      "DecisionTreeClassificationModel (uid=DecisionTreeClassifier_4f5eace10bd75cdea39e) of depth 15 with 13627 nodes\n"
     ]
    }
   ],
   "source": [
    "print(tree.bestModel)\n",
    "# print(tree.bestModel.toDebugString)"
   ]
  },
  {
   "cell_type": "markdown",
   "metadata": {},
   "source": [
    "#### b) Predict and Evaluate"
   ]
  },
  {
   "cell_type": "code",
   "execution_count": 53,
   "metadata": {},
   "outputs": [
    {
     "name": "stdout",
     "output_type": "stream",
     "text": [
      "Test Acc = 0.423728 \n",
      "+------------+-----+-------------+--------------------------+----------------+------------------+---------------+------------------+--------------------+--------------------+--------------------+----------+\n",
      "|survey_score|price|freight_value|product_description_lenght|product_weight_g|product_photos_qty|stateBucketized|catogoryBucketized|            features|       rawPrediction|         probability|prediction|\n",
      "+------------+-----+-------------+--------------------------+----------------+------------------+---------------+------------------+--------------------+--------------------+--------------------+----------+\n",
      "|           1|  6.0|         7.78|                       895|              50|                 1|            0.0|               0.0|[6.0,895.0,7.78,5...|[0.0,7.0,0.0,10.0...|[0.0,0.3888888888...|       3.0|\n",
      "|           1|  6.9|        15.65|                       137|             100|                 2|            1.0|               1.0|[6.9,137.0,15.65,...|[0.0,2.0,0.0,0.0,...|[0.0,1.0,0.0,0.0,...|       1.0|\n",
      "|           1| 7.45|         14.1|                       338|            1200|                 2|            0.0|               0.0|[7.45,338.0,14.1,...|[0.0,35.0,0.0,0.0...|[0.0,0.9722222222...|       1.0|\n",
      "|           1| 7.45|         14.1|                       338|            1200|                 2|            0.0|               0.0|[7.45,338.0,14.1,...|[0.0,35.0,0.0,0.0...|[0.0,0.9722222222...|       1.0|\n",
      "|           1|  7.9|        15.79|                       366|             200|                 4|            1.0|               3.0|[7.9,366.0,15.79,...|[0.0,12.0,0.0,0.0...|[0.0,1.0,0.0,0.0,...|       1.0|\n",
      "|           1|  7.9|        18.23|                        48|             150|                 1|            0.0|               0.0|[7.9,48.0,18.23,1...|[0.0,40.0,94.0,23...|[0.0,0.1941747572...|       2.0|\n",
      "|           1|  8.9|         8.27|                       456|              50|                 1|            0.0|               0.0|[8.9,456.0,8.27,5...|[0.0,6.0,43.0,0.0...|[0.0,0.1052631578...|       2.0|\n",
      "|           1| 8.99|        23.51|                        92|              50|                 1|            0.0|               0.0|[8.99,92.0,23.51,...|[0.0,40.0,94.0,23...|[0.0,0.1941747572...|       2.0|\n",
      "|           1|  9.5|         14.1|                       372|             150|                 1|            1.0|               2.0|[9.5,372.0,14.1,1...|[0.0,36.0,10.0,9....|[0.0,0.3272727272...|       1.0|\n",
      "|           1|  9.8|        15.23|                       198|              67|                 1|            0.0|               0.0|[9.8,198.0,15.23,...|[0.0,142.0,87.0,8...|[0.0,0.2423208191...|       1.0|\n",
      "+------------+-----+-------------+--------------------------+----------------+------------------+---------------+------------------+--------------------+--------------------+--------------------+----------+\n",
      "only showing top 10 rows\n",
      "\n"
     ]
    }
   ],
   "source": [
    "predDf = tree.transform(testDf)\n",
    "\n",
    "evaluator = MulticlassClassificationEvaluator(\n",
    "    labelCol='survey_score', predictionCol=\"prediction\", metricName=\"accuracy\")\n",
    "accuracy = evaluator.evaluate(predDf)\n",
    "print(\"Test Acc = %g \" % (accuracy))\n",
    "\n",
    "predDf.show(10)"
   ]
  },
  {
   "cell_type": "code",
   "execution_count": 43,
   "metadata": {},
   "outputs": [
    {
     "data": {
      "text/plain": [
       "array([[<matplotlib.axes._subplots.AxesSubplot object at 0x7f061528a390>]],\n",
       "      dtype=object)"
      ]
     },
     "execution_count": 43,
     "metadata": {},
     "output_type": "execute_result"
    },
    {
     "data": {
      "image/png": "[encoded data removed]",
      "text/plain": [
       "<Figure size 432x288 with 1 Axes>"
      ]
     },
     "metadata": {
      "needs_background": "light"
     },
     "output_type": "display_data"
    }
   ],
   "source": [
    "predDf.select('prediction').toPandas().hist()"
   ]
  },
  {
   "cell_type": "code",
   "execution_count": 44,
   "metadata": {},
   "outputs": [],
   "source": [
    "t = [5] * 60000 + [4] *50 + [3] *26+ [2] *79+[5]*100"
   ]
  },
  {
   "cell_type": "code",
   "execution_count": 45,
   "metadata": {},
   "outputs": [],
   "source": [
    "df = pd.DataFrame(t)"
   ]
  },
  {
   "cell_type": "code",
   "execution_count": 46,
   "metadata": {},
   "outputs": [
    {
     "data": {
      "text/plain": [
       "array([[<matplotlib.axes._subplots.AxesSubplot object at 0x7f05f80d62e8>]],\n",
       "      dtype=object)"
      ]
     },
     "execution_count": 46,
     "metadata": {},
     "output_type": "execute_result"
    },
    {
     "data": {
      "image/png": "[encoded data removed]",
      "text/plain": [
       "<Figure size 432x288 with 1 Axes>"
      ]
     },
     "metadata": {
      "needs_background": "light"
     },
     "output_type": "display_data"
    }
   ],
   "source": [
    "df.hist()"
   ]
  },
  {
   "cell_type": "code",
   "execution_count": 47,
   "metadata": {},
   "outputs": [],
   "source": [
    "predDfpandas = predDf.toPandas()"
   ]
  },
  {
   "cell_type": "code",
   "execution_count": 48,
   "metadata": {},
   "outputs": [],
   "source": [
    "right = 0\n",
    "wrong = 0\n",
    "for i in range(0, len(predDfpandas)):\n",
    "    if predDfpandas['survey_score'][i] == predDfpandas['prediction'][i] or  predDfpandas['survey_score'][i] == predDfpandas['prediction'][i] +1 or predDfpandas['survey_score'][i] == predDfpandas['prediction'][i] -1:\n",
    "        right += 1\n",
    "    else:\n",
    "        wrong += 1"
   ]
  },
  {
   "cell_type": "code",
   "execution_count": 49,
   "metadata": {},
   "outputs": [
    {
     "data": {
      "text/plain": [
       "0.6365540295622055"
      ]
     },
     "execution_count": 49,
     "metadata": {},
     "output_type": "execute_result"
    }
   ],
   "source": [
    "right/(right+wrong)"
   ]
  },
  {
   "cell_type": "markdown",
   "metadata": {},
   "source": [
    "###  13) More Evaluation"
   ]
  },
  {
   "cell_type": "markdown",
   "metadata": {},
   "source": [
    "#### a) confusion matrix"
   ]
  },
  {
   "cell_type": "code",
   "execution_count": 50,
   "metadata": {},
   "outputs": [
    {
     "data": {
      "text/plain": [
       "array([[5546, 2612, 1498, 3066, 1892],\n",
       "       [1478, 8849,  802, 2247, 1419],\n",
       "       [2107, 2491, 4310, 3135, 1922],\n",
       "       [2450, 2937, 1800, 5921, 2439],\n",
       "       [2600, 2933, 2001, 4295, 3737]])"
      ]
     },
     "execution_count": 50,
     "metadata": {},
     "output_type": "execute_result"
    }
   ],
   "source": [
    "from sklearn.metrics import confusion_matrix\n",
    "\n",
    "labelCol = 'survey_score'\n",
    "classes = predDf.select(labelCol).groupBy(labelCol)\\\n",
    "                        .count().sort('count', ascending=False).toPandas()\n",
    "classLabels = classes[labelCol].values.tolist()\n",
    "\n",
    "yTrue = predDf.select('survey_score').toPandas()\n",
    "yPred = predDf.select('prediction').toPandas()\n",
    "cnfMatrix = confusion_matrix(yTrue, yPred)\n",
    "cnfMatrix"
   ]
  },
  {
   "cell_type": "code",
   "execution_count": 68,
   "metadata": {},
   "outputs": [
    {
     "name": "stdout",
     "output_type": "stream",
     "text": [
      "Confusion matrix, without normalization\n",
      "[[5546 2612 1498 3066 1892]\n",
      " [1478 8849  802 2247 1419]\n",
      " [2107 2491 4310 3135 1922]\n",
      " [2450 2937 1800 5921 2439]\n",
      " [2600 2933 2001 4295 3737]]\n"
     ]
    },
    {
     "data": {
      "image/png": "[encoded data removed]",
      "text/plain": [
       "<Figure size 432x288 with 2 Axes>"
      ]
     },
     "metadata": {
      "needs_background": "light"
     },
     "output_type": "display_data"
    }
   ],
   "source": [
    "from plot_helper import plot_confusion_matrix\n",
    "import matplotlib.pyplot as plt\n",
    "\n",
    "plt.figure()\n",
    "plot_confusion_matrix(cnfMatrix, title=\"Confusion Matrix for Test Data\", classes=classLabels)\n",
    "plt.show()"
   ]
  },
  {
   "cell_type": "code",
   "execution_count": 69,
   "metadata": {},
   "outputs": [
    {
     "name": "stdout",
     "output_type": "stream",
     "text": [
      "Normalized confusion matrix\n",
      "[[0.37949911 0.17873272 0.10250445 0.20979882 0.1294649 ]\n",
      " [0.09989861 0.59810747 0.0542075  0.15187563 0.09591078]\n",
      " [0.15087719 0.17837451 0.30862871 0.2244898  0.13762979]\n",
      " [0.15758667 0.18891104 0.11577796 0.38084518 0.15687914]\n",
      " [0.16703071 0.18842349 0.1285494  0.27592188 0.24007452]]\n"
     ]
    },
    {
     "data": {
      "image/png": "[encoded data removed]",
      "text/plain": [
       "<Figure size 432x288 with 2 Axes>"
      ]
     },
     "metadata": {
      "needs_background": "light"
     },
     "output_type": "display_data"
    }
   ],
   "source": [
    "plt.figure()\n",
    "plot_confusion_matrix(cnfMatrix, title=\"Normalized Confusion Matrix for Test Data\",\n",
    "                      classes=classLabels, normalize=True)\n",
    "plt.show()"
   ]
  },
  {
   "cell_type": "markdown",
   "metadata": {},
   "source": [
    "#### b) Classification report"
   ]
  },
  {
   "cell_type": "code",
   "execution_count": 52,
   "metadata": {},
   "outputs": [
    {
     "data": {
      "text/plain": [
       "74487"
      ]
     },
     "execution_count": 52,
     "metadata": {},
     "output_type": "execute_result"
    }
   ],
   "source": [
    "len(yTrue)"
   ]
  },
  {
   "cell_type": "code",
   "execution_count": 53,
   "metadata": {},
   "outputs": [
    {
     "name": "stdout",
     "output_type": "stream",
     "text": [
      "              precision    recall  f1-score   support\n",
      "\n",
      "           5       0.39      0.38      0.39     14614\n",
      "           4       0.45      0.60      0.51     14795\n",
      "           2       0.41      0.31      0.35     13965\n",
      "           1       0.32      0.38      0.35     15547\n",
      "           3       0.33      0.24      0.28     15566\n",
      "\n",
      "   micro avg       0.38      0.38      0.38     74487\n",
      "   macro avg       0.38      0.38      0.37     74487\n",
      "weighted avg       0.38      0.38      0.37     74487\n",
      "\n"
     ]
    }
   ],
   "source": [
    "from sklearn.metrics import classification_report\n",
    "classLabels = [str(cla) for cla in classLabels]\n",
    "# print (classification_report(yTrue, yPred, target_names=labelClasses))\n",
    "print (classification_report(yTrue, yPred, target_names=classLabels))"
   ]
  },
  {
   "cell_type": "markdown",
   "metadata": {},
   "source": [
    "## 14) try Gradient-boosted tree classifier\n",
    "in order to get a comparatively balanced dataset for binary classification using Gradient-boosted tree classifier, we regard score<3 as a bad score and label is as \"0\", while scores >3 are labeled as \"1\"."
   ]
  },
  {
   "cell_type": "code",
   "execution_count": 121,
   "metadata": {},
   "outputs": [],
   "source": [
    "data1=data.filter(data.survey_score!=3)\n",
    "from pyspark.sql import functions as F\n",
    "update_func = (F.when(F.col('survey_score') <3,0)\n",
    "                .otherwise(1))\n",
    "data1 = data1.withColumn('survey_score_trans', update_func)"
   ]
  },
  {
   "cell_type": "code",
   "execution_count": 122,
   "metadata": {},
   "outputs": [
    {
     "data": {
      "text/plain": [
       "array([[<matplotlib.axes._subplots.AxesSubplot object at 0x7f05eed8d438>]],\n",
       "      dtype=object)"
      ]
     },
     "execution_count": 122,
     "metadata": {},
     "output_type": "execute_result"
    },
    {
     "data": {
      "image/png": "[encoded data removed]",
      "text/plain": [
       "<Figure size 432x288 with 1 Axes>"
      ]
     },
     "metadata": {
      "needs_background": "light"
     },
     "output_type": "display_data"
    }
   ],
   "source": [
    "data1.select('survey_score_trans').toPandas().hist()"
   ]
  },
  {
   "cell_type": "code",
   "execution_count": 123,
   "metadata": {},
   "outputs": [],
   "source": [
    "from pyspark.ml import Pipeline\n",
    "from pyspark.ml.classification import GBTClassifier\n",
    "from pyspark.ml.feature import StringIndexer, VectorIndexer\n",
    "from pyspark.ml.evaluation import MulticlassClassificationEvaluator"
   ]
  },
  {
   "cell_type": "code",
   "execution_count": 124,
   "metadata": {},
   "outputs": [],
   "source": [
    "labelIndexer = StringIndexer(inputCol=\"survey_score_trans\", outputCol=\"indexedsurvey_score\").fit(data1)"
   ]
  },
  {
   "cell_type": "code",
   "execution_count": 125,
   "metadata": {},
   "outputs": [],
   "source": [
    "# Automatically identify categorical features, and index them.\n",
    "# Set maxCategories so features with > 4 distinct values are treated as continuous.\n",
    "featureIndexer =\\\n",
    "    VectorIndexer(inputCol=\"features\", outputCol=\"indexedFeatures\", maxCategories=4).fit(data1)"
   ]
  },
  {
   "cell_type": "code",
   "execution_count": 126,
   "metadata": {},
   "outputs": [],
   "source": [
    "# Split the data into training and test sets (30% held out for testing)\n",
    "(trainingData, testData) = data1.randomSplit([0.75, 0.25])"
   ]
  },
  {
   "cell_type": "code",
   "execution_count": 127,
   "metadata": {},
   "outputs": [],
   "source": [
    "# Train a GBT model.\n",
    "gbt = GBTClassifier(labelCol=\"indexedsurvey_score\", featuresCol=\"indexedFeatures\", maxIter=10)"
   ]
  },
  {
   "cell_type": "code",
   "execution_count": 128,
   "metadata": {},
   "outputs": [],
   "source": [
    "# Chain indexers and GBT in a Pipeline\n",
    "pipeline = Pipeline(stages=[labelIndexer, featureIndexer, gbt])\n"
   ]
  },
  {
   "cell_type": "code",
   "execution_count": 129,
   "metadata": {},
   "outputs": [],
   "source": [
    "# Train model.  This also runs the indexers.\n",
    "model = pipeline.fit(trainingData)"
   ]
  },
  {
   "cell_type": "code",
   "execution_count": 130,
   "metadata": {},
   "outputs": [],
   "source": [
    "# Make predictions.\n",
    "predictions = model.transform(testData)"
   ]
  },
  {
   "cell_type": "code",
   "execution_count": 131,
   "metadata": {},
   "outputs": [
    {
     "name": "stdout",
     "output_type": "stream",
     "text": [
      "+----------+-------------------+--------------------+\n",
      "|prediction|indexedsurvey_score|            features|\n",
      "+----------+-------------------+--------------------+\n",
      "|       1.0|                1.0|[7.45,338.0,14.1,...|\n",
      "|       1.0|                1.0|[7.45,338.0,14.1,...|\n",
      "|       1.0|                1.0|[7.45,338.0,14.1,...|\n",
      "|       0.0|                1.0|[8.9,456.0,8.27,5...|\n",
      "|       0.0|                1.0|[8.99,92.0,23.51,...|\n",
      "+----------+-------------------+--------------------+\n",
      "only showing top 5 rows\n",
      "\n",
      "Test Accuracy = 0.573129\n",
      "GBTClassificationModel (uid=GBTClassifier_4e26aa79aced68c757bd) with 10 trees\n"
     ]
    }
   ],
   "source": [
    "# Select example rows to display.\n",
    "predictions.select(\"prediction\", \"indexedsurvey_score\", \"features\").show(5)\n",
    "\n",
    "# Select (prediction, true label) and compute test error\n",
    "evaluator = MulticlassClassificationEvaluator(\n",
    "    labelCol=\"indexedsurvey_score\", predictionCol=\"prediction\", metricName=\"accuracy\")\n",
    "accuracy = evaluator.evaluate(predictions)\n",
    "print(\"Test Accuracy = %g\" % (accuracy))\n",
    "\n",
    "gbtModel = model.stages[2]\n",
    "print(gbtModel)  # summary only"
   ]
  },
  {
   "cell_type": "markdown",
   "metadata": {},
   "source": [
    "As we can tell from the accuracy, the GBT model doesn't work well, its accuracy is just better than a random guess."
   ]
  },
  {
   "cell_type": "markdown",
   "metadata": {},
   "source": [
    "### 14) Stop Spark Session"
   ]
  },
  {
   "cell_type": "code",
   "execution_count": null,
   "metadata": {},
   "outputs": [],
   "source": [
    "spark.stop()"
   ]
  }
 ],
 "metadata": {
  "kernelspec": {
   "display_name": "Python 3",
   "language": "python",
   "name": "python3"
  },
  "language_info": {
   "codemirror_mode": {
    "name": "ipython",
    "version": 3
   },
   "file_extension": ".py",
   "mimetype": "text/x-python",
   "name": "python",
   "nbconvert_exporter": "python",
   "pygments_lexer": "ipython3",
   "version": "3.7.1"
  }
 },
 "nbformat": 4,
 "nbformat_minor": 2
}
